{
 "cells": [
  {
   "cell_type": "code",
   "execution_count": 1,
   "metadata": {
    "collapsed": true
   },
   "outputs": [],
   "source": [
    "import os"
   ]
  },
  {
   "cell_type": "code",
   "execution_count": 2,
   "metadata": {},
   "outputs": [
    {
     "data": {
      "text/plain": [
       "0"
      ]
     },
     "execution_count": 2,
     "metadata": {},
     "output_type": "execute_result"
    }
   ],
   "source": [
    "os.system('youtube-dl --extract-audio --audio-format mp3 https://www.youtube.com/watch?v=puuys09MQRs')\n"
   ]
  },
  {
   "cell_type": "code",
   "execution_count": 4,
   "metadata": {},
   "outputs": [],
   "source": [
    "import urllib\n",
    "from bs4 import BeautifulSoup"
   ]
  },
  {
   "cell_type": "code",
   "execution_count": 14,
   "metadata": {},
   "outputs": [
    {
     "name": "stderr",
     "output_type": "stream",
     "text": [
      "C:\\Users\\lvinze\\AppData\\Local\\Continuum\\Anaconda3\\lib\\site-packages\\bs4\\__init__.py:181: UserWarning: No parser was explicitly specified, so I'm using the best available HTML parser for this system (\"lxml\"). This usually isn't a problem, but if you run this code on another system, or in a different virtual environment, it may use a different parser and behave differently.\n",
      "\n",
      "The code that caused this warning is on line 193 of the file C:\\Users\\lvinze\\AppData\\Local\\Continuum\\Anaconda3\\lib\\runpy.py. To get rid of this warning, change code that looks like this:\n",
      "\n",
      " BeautifulSoup(YOUR_MARKUP})\n",
      "\n",
      "to this:\n",
      "\n",
      " BeautifulSoup(YOUR_MARKUP, \"lxml\")\n",
      "\n",
      "  markup_type=markup_type))\n"
     ]
    },
    {
     "name": "stdout",
     "output_type": "stream",
     "text": [
      "https://www.youtube.comhttps://googleads.g.doubleclick.net/aclk?sa=L&ai=Czp4w80OwWdTVBdj6vgLLx5DgCb26puNLrYXKtdMFwI23ARABIOP7kwNgyYajh9SjgBDIAQGoAwGqBI8BT9CLOwhhnE7tjOq25oRL3XFftMgm7Wd322mqIgSZXzkYHZrE1HQ--p_VnhnmfXKdyVssBc-5EeDoW1LXbP6LqhfoxHOmuf-fQ4ZcS98Ha0-H1gFu3y1bTYig66mHbZIjom0BEgFFC3n3m8qjyymBFTB-3XCPF73PVEWAuqoy_Pn4reBVHsjErj1Jw4RcmHKgBhrIBrv1462mBoAH293PcKgHpr4b2AcB0ggHCIBhEAEYA7EJDXWl7NZci5K4E-gB2BMC&num=1&sig=AOD64_0pB_9dB311ilSNvNR26KhT6sRr3A&ctype=21&video_id=pETslfMjwtw&client=ca-pub-6219811747049371&adurl=https://www.youtube.com/watch%3Fv%3DpETslfMjwtw\n",
      "https://www.youtube.com/watch?v=auLBLk4ibAk&list=RDEM7S2Y1zXF-I77fRXilXb6Ew\n",
      "https://www.youtube.com/watch?v=auLBLk4ibAk\n",
      "https://www.youtube.com/watch?v=ZiRuj2_czzw\n",
      "https://www.youtube.com/channel/UCDCgtKZG6r7C9n87FMxR5ow\n",
      "https://www.youtube.com/watch?v=EYYdQB0mkEU\n",
      "https://www.youtube.com/watch?v=N_PdK8Gt7BE\n",
      "https://www.youtube.com/watch?v=SEuOoMprDqg\n",
      "https://www.youtube.com/watch?v=iIGKlicb8n0\n",
      "https://www.youtube.com/watch?v=x0alqsapHOc\n",
      "https://www.youtube.com/watch?v=YSToKcbWz1k\n",
      "https://www.youtube.com/watch?v=puuys09MQRs\n",
      "https://www.youtube.com/watch?v=1_V94UIpfuM\n",
      "https://www.youtube.com/watch?v=DDRPtg0kmJU\n",
      "https://www.youtube.com/watch?v=vxPcTpXGOug\n",
      "https://www.youtube.com/watch?v=RTAqCEPMHEg\n",
      "https://www.youtube.com/watch?v=dMSFqXGZ5TQ\n",
      "https://www.youtube.com/watch?v=5wfkCu79kjk\n",
      "https://www.youtube.com/watch?v=ByvxpSaN5Bo\n",
      "https://www.youtube.com/watch?v=Rby0pd2PO0o\n",
      "https://www.youtube.com/watch?v=lcEDONdwj74\n"
     ]
    }
   ],
   "source": [
    "import urllib\n",
    "from bs4 import BeautifulSoup\n",
    "\n",
    "textToSearch = 'rush'\n",
    "query = urllib.parse.quote(textToSearch)\n",
    "url = \"https://www.youtube.com/results?search_query=\" + query\n",
    "response = urllib.request.urlopen(url)\n",
    "html = response.read()\n",
    "soup = BeautifulSoup(html)\n",
    "for vid in soup.findAll(attrs={'class':'yt-uix-tile-link'}):\n",
    "    print('https://www.youtube.com' + vid['href'])"
   ]
  },
  {
   "cell_type": "code",
   "execution_count": null,
   "metadata": {
    "collapsed": true
   },
   "outputs": [],
   "source": []
  }
 ],
 "metadata": {
  "kernelspec": {
   "display_name": "Python 3",
   "language": "python",
   "name": "python3"
  },
  "language_info": {
   "codemirror_mode": {
    "name": "ipython",
    "version": 3
   },
   "file_extension": ".py",
   "mimetype": "text/x-python",
   "name": "python",
   "nbconvert_exporter": "python",
   "pygments_lexer": "ipython3",
   "version": "3.6.2"
  }
 },
 "nbformat": 4,
 "nbformat_minor": 2
}
